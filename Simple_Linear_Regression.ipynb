{
 "cells": [
  {
   "cell_type": "markdown",
   "id": "abed9cd4",
   "metadata": {},
   "source": [
    "# Linear Regression"
   ]
  },
  {
   "cell_type": "markdown",
   "id": "f5d48868",
   "metadata": {},
   "source": [
    "Linear Regression: Continous Variable\n",
    "Linear regression is used for finding linear relationship between target and one or more predictors\n",
    "\n",
    "There are two types of linear regression:\n",
    "- Simple and \n",
    "- Multiple \n",
    "\n",
    "# Simple Linear Regression\n",
    "Simple linear regression may be used to determine the connection between two continuous variables. One is a predictor or an independent variable, while the other is a reaction or a dependent variable. It seeks a statistical link as opposed to a deterministic one. A deterministic relationship exists between two variables. if one variable can be precisely represented by the other variable. For instance, it is feasible to precisely anticipate Fahrenheit temperatures using Celsius temperatures. In identifying the link between two variables, statistical correlation is inaccurate. Consider the relationship between time and distance, for instance.\n",
    "\n",
    "### Equation of simple linear regression\n",
    "\n",
    "y= mx+c\n",
    "\n",
    "Here,\n",
    "- y: Target Variable or Dependent variable\n",
    "- m: Slope of the equation\n",
    "- x: Independent variable or Predictor\n",
    "- c: constant\n",
    "\n",
    "### How do we draw the map?\n",
    "The fundamental concept is to choose a line that best matches the data. The best-fitting line is the one with the smallest overall prediction error (across all data points). The distance between a point and the regression line called the error.\n",
    "\n",
    "### Example:\n",
    "Suppose there is a dataset containing information regarding the correlation between the number of hours spent studying and the grades earned. Several pupils have been monitored, and their study hours and grades have been recorded. This constitutes our training data.\n",
    "\n",
    "The objective is to develop a model that can predict grades given the amount of hours spent studying. Using the training data, a regression line with least error is determined. The linear equation is then applied to any additional data. Thus, if a student's number of hours of study is entered, our model should predict their grade with little error.\n",
    "\n",
    "Y(pred) = c+m*x\n",
    "\n",
    "The values c and m must be selected in order to minimize the mistake. If sum of squared error is used as a measure to assess the model, the objective is to find the line that minimizes error the most. Therefore, in Simple linear regression, the number of iterations is conducted to determine the value of m for which the error (Residue) is the smallest. After m is determined, the slope is drawn, therefore completing the model."
   ]
  },
  {
   "cell_type": "markdown",
   "id": "08925652",
   "metadata": {},
   "source": [
    "# Importing Libraries"
   ]
  },
  {
   "cell_type": "code",
   "execution_count": 1,
   "id": "0720c7ad",
   "metadata": {},
   "outputs": [],
   "source": [
    "import numpy as np\n",
    "import pandas as pd\n",
    "import matplotlib.pyplot as plt\n",
    "import seaborn as sns"
   ]
  },
  {
   "cell_type": "markdown",
   "id": "f35afdde",
   "metadata": {},
   "source": [
    "# Loading Dataset"
   ]
  },
  {
   "cell_type": "code",
   "execution_count": 2,
   "id": "446757a5",
   "metadata": {},
   "outputs": [
    {
     "data": {
      "text/html": [
       "<div>\n",
       "<style scoped>\n",
       "    .dataframe tbody tr th:only-of-type {\n",
       "        vertical-align: middle;\n",
       "    }\n",
       "\n",
       "    .dataframe tbody tr th {\n",
       "        vertical-align: top;\n",
       "    }\n",
       "\n",
       "    .dataframe thead th {\n",
       "        text-align: right;\n",
       "    }\n",
       "</style>\n",
       "<table border=\"1\" class=\"dataframe\">\n",
       "  <thead>\n",
       "    <tr style=\"text-align: right;\">\n",
       "      <th></th>\n",
       "      <th>Price</th>\n",
       "      <th>Age</th>\n",
       "      <th>KM</th>\n",
       "      <th>FuelType</th>\n",
       "      <th>HP</th>\n",
       "      <th>MetColor</th>\n",
       "      <th>Automatic</th>\n",
       "      <th>CC</th>\n",
       "      <th>Doors</th>\n",
       "      <th>Weight</th>\n",
       "    </tr>\n",
       "  </thead>\n",
       "  <tbody>\n",
       "    <tr>\n",
       "      <th>0</th>\n",
       "      <td>13500</td>\n",
       "      <td>23.0</td>\n",
       "      <td>46986</td>\n",
       "      <td>Diesel</td>\n",
       "      <td>90</td>\n",
       "      <td>1</td>\n",
       "      <td>0</td>\n",
       "      <td>2000.0</td>\n",
       "      <td>3</td>\n",
       "      <td>1165.0</td>\n",
       "    </tr>\n",
       "    <tr>\n",
       "      <th>1</th>\n",
       "      <td>13750</td>\n",
       "      <td>23.0</td>\n",
       "      <td>72937</td>\n",
       "      <td>Diesel</td>\n",
       "      <td>90</td>\n",
       "      <td>1</td>\n",
       "      <td>0</td>\n",
       "      <td>2000.0</td>\n",
       "      <td>3</td>\n",
       "      <td>1165.0</td>\n",
       "    </tr>\n",
       "    <tr>\n",
       "      <th>2</th>\n",
       "      <td>13950</td>\n",
       "      <td>24.0</td>\n",
       "      <td>41711</td>\n",
       "      <td>Diesel</td>\n",
       "      <td>90</td>\n",
       "      <td>1</td>\n",
       "      <td>0</td>\n",
       "      <td>2000.0</td>\n",
       "      <td>3</td>\n",
       "      <td>1165.0</td>\n",
       "    </tr>\n",
       "    <tr>\n",
       "      <th>3</th>\n",
       "      <td>14950</td>\n",
       "      <td>26.0</td>\n",
       "      <td>48000</td>\n",
       "      <td>Diesel</td>\n",
       "      <td>90</td>\n",
       "      <td>0</td>\n",
       "      <td>0</td>\n",
       "      <td>2000.0</td>\n",
       "      <td>3</td>\n",
       "      <td>1165.0</td>\n",
       "    </tr>\n",
       "    <tr>\n",
       "      <th>4</th>\n",
       "      <td>13750</td>\n",
       "      <td>30.0</td>\n",
       "      <td>38500</td>\n",
       "      <td>Diesel</td>\n",
       "      <td>90</td>\n",
       "      <td>0</td>\n",
       "      <td>0</td>\n",
       "      <td>2000.0</td>\n",
       "      <td>3</td>\n",
       "      <td>1170.0</td>\n",
       "    </tr>\n",
       "  </tbody>\n",
       "</table>\n",
       "</div>"
      ],
      "text/plain": [
       "   Price   Age     KM FuelType  HP  MetColor  Automatic      CC  Doors  Weight\n",
       "0  13500  23.0  46986   Diesel  90         1          0  2000.0      3  1165.0\n",
       "1  13750  23.0  72937   Diesel  90         1          0  2000.0      3  1165.0\n",
       "2  13950  24.0  41711   Diesel  90         1          0  2000.0      3  1165.0\n",
       "3  14950  26.0  48000   Diesel  90         0          0  2000.0      3  1165.0\n",
       "4  13750  30.0  38500   Diesel  90         0          0  2000.0      3  1170.0"
      ]
     },
     "execution_count": 2,
     "metadata": {},
     "output_type": "execute_result"
    }
   ],
   "source": [
    "data=pd.read_csv(\"CarPricesData.csv\")\n",
    "df=data.copy()\n",
    "df.head()"
   ]
  },
  {
   "cell_type": "markdown",
   "id": "b04dba62",
   "metadata": {},
   "source": [
    "# Removing duplicate rows"
   ]
  },
  {
   "cell_type": "code",
   "execution_count": 3,
   "id": "0d8c0b9d",
   "metadata": {},
   "outputs": [
    {
     "name": "stdout",
     "output_type": "stream",
     "text": [
      "Shape before deleting duplicate values:  (1436, 10)\n",
      "Shape after deleting duplicate values:  (1435, 10)\n"
     ]
    },
    {
     "data": {
      "text/html": [
       "<div>\n",
       "<style scoped>\n",
       "    .dataframe tbody tr th:only-of-type {\n",
       "        vertical-align: middle;\n",
       "    }\n",
       "\n",
       "    .dataframe tbody tr th {\n",
       "        vertical-align: top;\n",
       "    }\n",
       "\n",
       "    .dataframe thead th {\n",
       "        text-align: right;\n",
       "    }\n",
       "</style>\n",
       "<table border=\"1\" class=\"dataframe\">\n",
       "  <thead>\n",
       "    <tr style=\"text-align: right;\">\n",
       "      <th></th>\n",
       "      <th>Price</th>\n",
       "      <th>Age</th>\n",
       "      <th>KM</th>\n",
       "      <th>FuelType</th>\n",
       "      <th>HP</th>\n",
       "      <th>MetColor</th>\n",
       "      <th>Automatic</th>\n",
       "      <th>CC</th>\n",
       "      <th>Doors</th>\n",
       "      <th>Weight</th>\n",
       "    </tr>\n",
       "  </thead>\n",
       "  <tbody>\n",
       "    <tr>\n",
       "      <th>0</th>\n",
       "      <td>13500</td>\n",
       "      <td>23.0</td>\n",
       "      <td>46986</td>\n",
       "      <td>Diesel</td>\n",
       "      <td>90</td>\n",
       "      <td>1</td>\n",
       "      <td>0</td>\n",
       "      <td>2000.0</td>\n",
       "      <td>3</td>\n",
       "      <td>1165.0</td>\n",
       "    </tr>\n",
       "    <tr>\n",
       "      <th>1</th>\n",
       "      <td>13750</td>\n",
       "      <td>23.0</td>\n",
       "      <td>72937</td>\n",
       "      <td>Diesel</td>\n",
       "      <td>90</td>\n",
       "      <td>1</td>\n",
       "      <td>0</td>\n",
       "      <td>2000.0</td>\n",
       "      <td>3</td>\n",
       "      <td>1165.0</td>\n",
       "    </tr>\n",
       "    <tr>\n",
       "      <th>2</th>\n",
       "      <td>13950</td>\n",
       "      <td>24.0</td>\n",
       "      <td>41711</td>\n",
       "      <td>Diesel</td>\n",
       "      <td>90</td>\n",
       "      <td>1</td>\n",
       "      <td>0</td>\n",
       "      <td>2000.0</td>\n",
       "      <td>3</td>\n",
       "      <td>1165.0</td>\n",
       "    </tr>\n",
       "    <tr>\n",
       "      <th>3</th>\n",
       "      <td>14950</td>\n",
       "      <td>26.0</td>\n",
       "      <td>48000</td>\n",
       "      <td>Diesel</td>\n",
       "      <td>90</td>\n",
       "      <td>0</td>\n",
       "      <td>0</td>\n",
       "      <td>2000.0</td>\n",
       "      <td>3</td>\n",
       "      <td>1165.0</td>\n",
       "    </tr>\n",
       "    <tr>\n",
       "      <th>4</th>\n",
       "      <td>13750</td>\n",
       "      <td>30.0</td>\n",
       "      <td>38500</td>\n",
       "      <td>Diesel</td>\n",
       "      <td>90</td>\n",
       "      <td>0</td>\n",
       "      <td>0</td>\n",
       "      <td>2000.0</td>\n",
       "      <td>3</td>\n",
       "      <td>1170.0</td>\n",
       "    </tr>\n",
       "  </tbody>\n",
       "</table>\n",
       "</div>"
      ],
      "text/plain": [
       "   Price   Age     KM FuelType  HP  MetColor  Automatic      CC  Doors  Weight\n",
       "0  13500  23.0  46986   Diesel  90         1          0  2000.0      3  1165.0\n",
       "1  13750  23.0  72937   Diesel  90         1          0  2000.0      3  1165.0\n",
       "2  13950  24.0  41711   Diesel  90         1          0  2000.0      3  1165.0\n",
       "3  14950  26.0  48000   Diesel  90         0          0  2000.0      3  1165.0\n",
       "4  13750  30.0  38500   Diesel  90         0          0  2000.0      3  1170.0"
      ]
     },
     "execution_count": 3,
     "metadata": {},
     "output_type": "execute_result"
    }
   ],
   "source": [
    "print('Shape before deleting duplicate values: ', df.shape)\n",
    "df=df.drop_duplicates()\n",
    "print('Shape after deleting duplicate values: ', df.shape)\n",
    "df.head()"
   ]
  },
  {
   "cell_type": "markdown",
   "id": "75d9fb9b",
   "metadata": {},
   "source": [
    "# Basic Data Exploration"
   ]
  },
  {
   "cell_type": "code",
   "execution_count": 4,
   "id": "0e117d94",
   "metadata": {},
   "outputs": [
    {
     "name": "stdout",
     "output_type": "stream",
     "text": [
      "<class 'pandas.core.frame.DataFrame'>\n",
      "Int64Index: 1435 entries, 0 to 1435\n",
      "Data columns (total 10 columns):\n",
      " #   Column     Non-Null Count  Dtype  \n",
      "---  ------     --------------  -----  \n",
      " 0   Price      1435 non-null   int64  \n",
      " 1   Age        1433 non-null   float64\n",
      " 2   KM         1435 non-null   int64  \n",
      " 3   FuelType   1431 non-null   object \n",
      " 4   HP         1435 non-null   int64  \n",
      " 5   MetColor   1435 non-null   int64  \n",
      " 6   Automatic  1435 non-null   int64  \n",
      " 7   CC         1433 non-null   float64\n",
      " 8   Doors      1435 non-null   int64  \n",
      " 9   Weight     1433 non-null   float64\n",
      "dtypes: float64(3), int64(6), object(1)\n",
      "memory usage: 123.3+ KB\n"
     ]
    }
   ],
   "source": [
    "df.info()"
   ]
  },
  {
   "cell_type": "markdown",
   "id": "d7643e02",
   "metadata": {},
   "source": [
    "`Observation`: There are three data types which are int, float, categorical. that means numerical and categorical data are available"
   ]
  },
  {
   "cell_type": "code",
   "execution_count": 5,
   "id": "03189022",
   "metadata": {},
   "outputs": [
    {
     "data": {
      "text/html": [
       "<div>\n",
       "<style scoped>\n",
       "    .dataframe tbody tr th:only-of-type {\n",
       "        vertical-align: middle;\n",
       "    }\n",
       "\n",
       "    .dataframe tbody tr th {\n",
       "        vertical-align: top;\n",
       "    }\n",
       "\n",
       "    .dataframe thead th {\n",
       "        text-align: right;\n",
       "    }\n",
       "</style>\n",
       "<table border=\"1\" class=\"dataframe\">\n",
       "  <thead>\n",
       "    <tr style=\"text-align: right;\">\n",
       "      <th></th>\n",
       "      <th>Price</th>\n",
       "      <th>Age</th>\n",
       "      <th>KM</th>\n",
       "      <th>FuelType</th>\n",
       "      <th>HP</th>\n",
       "      <th>MetColor</th>\n",
       "      <th>Automatic</th>\n",
       "      <th>CC</th>\n",
       "      <th>Doors</th>\n",
       "      <th>Weight</th>\n",
       "    </tr>\n",
       "  </thead>\n",
       "  <tbody>\n",
       "    <tr>\n",
       "      <th>count</th>\n",
       "      <td>1435.000000</td>\n",
       "      <td>1433.000000</td>\n",
       "      <td>1435.000000</td>\n",
       "      <td>1431</td>\n",
       "      <td>1435.000000</td>\n",
       "      <td>1435.000000</td>\n",
       "      <td>1435.000000</td>\n",
       "      <td>1433.000000</td>\n",
       "      <td>1435.000000</td>\n",
       "      <td>1433.000000</td>\n",
       "    </tr>\n",
       "    <tr>\n",
       "      <th>unique</th>\n",
       "      <td>NaN</td>\n",
       "      <td>NaN</td>\n",
       "      <td>NaN</td>\n",
       "      <td>3</td>\n",
       "      <td>NaN</td>\n",
       "      <td>NaN</td>\n",
       "      <td>NaN</td>\n",
       "      <td>NaN</td>\n",
       "      <td>NaN</td>\n",
       "      <td>NaN</td>\n",
       "    </tr>\n",
       "    <tr>\n",
       "      <th>top</th>\n",
       "      <td>NaN</td>\n",
       "      <td>NaN</td>\n",
       "      <td>NaN</td>\n",
       "      <td>Petrol</td>\n",
       "      <td>NaN</td>\n",
       "      <td>NaN</td>\n",
       "      <td>NaN</td>\n",
       "      <td>NaN</td>\n",
       "      <td>NaN</td>\n",
       "      <td>NaN</td>\n",
       "    </tr>\n",
       "    <tr>\n",
       "      <th>freq</th>\n",
       "      <td>NaN</td>\n",
       "      <td>NaN</td>\n",
       "      <td>NaN</td>\n",
       "      <td>1260</td>\n",
       "      <td>NaN</td>\n",
       "      <td>NaN</td>\n",
       "      <td>NaN</td>\n",
       "      <td>NaN</td>\n",
       "      <td>NaN</td>\n",
       "      <td>NaN</td>\n",
       "    </tr>\n",
       "    <tr>\n",
       "      <th>mean</th>\n",
       "      <td>10720.915679</td>\n",
       "      <td>56.020237</td>\n",
       "      <td>68571.782578</td>\n",
       "      <td>NaN</td>\n",
       "      <td>101.491986</td>\n",
       "      <td>0.674564</td>\n",
       "      <td>0.055749</td>\n",
       "      <td>1566.688765</td>\n",
       "      <td>4.032753</td>\n",
       "      <td>1072.314724</td>\n",
       "    </tr>\n",
       "    <tr>\n",
       "      <th>std</th>\n",
       "      <td>3608.732978</td>\n",
       "      <td>18.544948</td>\n",
       "      <td>37491.094553</td>\n",
       "      <td>NaN</td>\n",
       "      <td>14.981408</td>\n",
       "      <td>0.468701</td>\n",
       "      <td>0.229517</td>\n",
       "      <td>186.893360</td>\n",
       "      <td>0.952667</td>\n",
       "      <td>52.283038</td>\n",
       "    </tr>\n",
       "    <tr>\n",
       "      <th>min</th>\n",
       "      <td>4350.000000</td>\n",
       "      <td>1.000000</td>\n",
       "      <td>1.000000</td>\n",
       "      <td>NaN</td>\n",
       "      <td>69.000000</td>\n",
       "      <td>0.000000</td>\n",
       "      <td>0.000000</td>\n",
       "      <td>1300.000000</td>\n",
       "      <td>2.000000</td>\n",
       "      <td>1000.000000</td>\n",
       "    </tr>\n",
       "    <tr>\n",
       "      <th>25%</th>\n",
       "      <td>8450.000000</td>\n",
       "      <td>44.000000</td>\n",
       "      <td>43000.000000</td>\n",
       "      <td>NaN</td>\n",
       "      <td>90.000000</td>\n",
       "      <td>0.000000</td>\n",
       "      <td>0.000000</td>\n",
       "      <td>1400.000000</td>\n",
       "      <td>3.000000</td>\n",
       "      <td>1040.000000</td>\n",
       "    </tr>\n",
       "    <tr>\n",
       "      <th>50%</th>\n",
       "      <td>9900.000000</td>\n",
       "      <td>61.000000</td>\n",
       "      <td>63451.000000</td>\n",
       "      <td>NaN</td>\n",
       "      <td>110.000000</td>\n",
       "      <td>1.000000</td>\n",
       "      <td>0.000000</td>\n",
       "      <td>1600.000000</td>\n",
       "      <td>4.000000</td>\n",
       "      <td>1070.000000</td>\n",
       "    </tr>\n",
       "    <tr>\n",
       "      <th>75%</th>\n",
       "      <td>11950.000000</td>\n",
       "      <td>70.000000</td>\n",
       "      <td>87041.500000</td>\n",
       "      <td>NaN</td>\n",
       "      <td>110.000000</td>\n",
       "      <td>1.000000</td>\n",
       "      <td>0.000000</td>\n",
       "      <td>1600.000000</td>\n",
       "      <td>5.000000</td>\n",
       "      <td>1085.000000</td>\n",
       "    </tr>\n",
       "    <tr>\n",
       "      <th>max</th>\n",
       "      <td>32500.000000</td>\n",
       "      <td>80.000000</td>\n",
       "      <td>243000.000000</td>\n",
       "      <td>NaN</td>\n",
       "      <td>192.000000</td>\n",
       "      <td>1.000000</td>\n",
       "      <td>1.000000</td>\n",
       "      <td>2000.000000</td>\n",
       "      <td>5.000000</td>\n",
       "      <td>1615.000000</td>\n",
       "    </tr>\n",
       "  </tbody>\n",
       "</table>\n",
       "</div>"
      ],
      "text/plain": [
       "               Price          Age             KM FuelType           HP  \\\n",
       "count    1435.000000  1433.000000    1435.000000     1431  1435.000000   \n",
       "unique           NaN          NaN            NaN        3          NaN   \n",
       "top              NaN          NaN            NaN   Petrol          NaN   \n",
       "freq             NaN          NaN            NaN     1260          NaN   \n",
       "mean    10720.915679    56.020237   68571.782578      NaN   101.491986   \n",
       "std      3608.732978    18.544948   37491.094553      NaN    14.981408   \n",
       "min      4350.000000     1.000000       1.000000      NaN    69.000000   \n",
       "25%      8450.000000    44.000000   43000.000000      NaN    90.000000   \n",
       "50%      9900.000000    61.000000   63451.000000      NaN   110.000000   \n",
       "75%     11950.000000    70.000000   87041.500000      NaN   110.000000   \n",
       "max     32500.000000    80.000000  243000.000000      NaN   192.000000   \n",
       "\n",
       "           MetColor    Automatic           CC        Doors       Weight  \n",
       "count   1435.000000  1435.000000  1433.000000  1435.000000  1433.000000  \n",
       "unique          NaN          NaN          NaN          NaN          NaN  \n",
       "top             NaN          NaN          NaN          NaN          NaN  \n",
       "freq            NaN          NaN          NaN          NaN          NaN  \n",
       "mean       0.674564     0.055749  1566.688765     4.032753  1072.314724  \n",
       "std        0.468701     0.229517   186.893360     0.952667    52.283038  \n",
       "min        0.000000     0.000000  1300.000000     2.000000  1000.000000  \n",
       "25%        0.000000     0.000000  1400.000000     3.000000  1040.000000  \n",
       "50%        1.000000     0.000000  1600.000000     4.000000  1070.000000  \n",
       "75%        1.000000     0.000000  1600.000000     5.000000  1085.000000  \n",
       "max        1.000000     1.000000  2000.000000     5.000000  1615.000000  "
      ]
     },
     "execution_count": 5,
     "metadata": {},
     "output_type": "execute_result"
    }
   ],
   "source": [
    "df.describe(include='all')"
   ]
  },
  {
   "cell_type": "markdown",
   "id": "4cd61059",
   "metadata": {},
   "source": [
    "`Observation`: The minimum value of Age and KM is 1. This is not possible for old car band sales dataset. "
   ]
  },
  {
   "cell_type": "code",
   "execution_count": 6,
   "id": "de0302b4",
   "metadata": {},
   "outputs": [
    {
     "data": {
      "text/plain": [
       "Price        0\n",
       "Age          2\n",
       "KM           0\n",
       "FuelType     4\n",
       "HP           0\n",
       "MetColor     0\n",
       "Automatic    0\n",
       "CC           2\n",
       "Doors        0\n",
       "Weight       2\n",
       "dtype: int64"
      ]
     },
     "execution_count": 6,
     "metadata": {},
     "output_type": "execute_result"
    }
   ],
   "source": [
    "df.isnull().sum()"
   ]
  },
  {
   "cell_type": "markdown",
   "id": "8bf1cad5",
   "metadata": {},
   "source": [
    "`Observation`: Missing value is found in Age, FuelType, CC, and Weight columns"
   ]
  },
  {
   "cell_type": "markdown",
   "id": "be49f68c",
   "metadata": {},
   "source": [
    "`Observation`: All are numerical values except FuelType"
   ]
  },
  {
   "cell_type": "markdown",
   "id": "fbc5d87b",
   "metadata": {},
   "source": [
    "# Visualization"
   ]
  },
  {
   "cell_type": "code",
   "execution_count": 7,
   "id": "2a8249f8",
   "metadata": {},
   "outputs": [],
   "source": [
    "def PlotBarCharts(inpdata, colsToPlot):\n",
    "    fig, subplot=plt.subplots(nrows=1,ncols=len(colsToPlot),figsize=(20,5))\n",
    "    fig.suptitle('Bar charts of: '+str(colsToPlot))\n",
    "    for colname, plotnumber in zip(colsToPlot,range(len(colsToPlot))):\n",
    "        inpdata.groupby(colname).size().plot(kind='bar',ax=subplot[plotnumber])"
   ]
  },
  {
   "cell_type": "markdown",
   "id": "3a38c3ca",
   "metadata": {},
   "source": [
    "# Categorical Variables"
   ]
  },
  {
   "cell_type": "code",
   "execution_count": 8,
   "id": "87b5d831",
   "metadata": {},
   "outputs": [
    {
     "data": {
      "image/png": "[encoded data removed]",
      "text/plain": [
       "<Figure size 1440x360 with 6 Axes>"
      ]
     },
     "metadata": {
      "needs_background": "light"
     },
     "output_type": "display_data"
    }
   ],
   "source": [
    "#Calling the function\n",
    "columns_name=['FuelType', 'HP', 'MetColor', 'Automatic', 'CC', 'Doors']\n",
    "PlotBarCharts(inpdata=df,colsToPlot=columns_name)"
   ]
  },
  {
   "cell_type": "markdown",
   "id": "36f00949",
   "metadata": {},
   "source": [
    "# Continuous Variables"
   ]
  },
  {
   "cell_type": "code",
   "execution_count": 9,
   "id": "07db1130",
   "metadata": {},
   "outputs": [
    {
     "data": {
      "image/png": "[encoded data removed]",
      "text/plain": [
       "<Figure size 864x432 with 4 Axes>"
      ]
     },
     "metadata": {
      "needs_background": "light"
     },
     "output_type": "display_data"
    }
   ],
   "source": [
    "df.hist(['Price','Age', 'KM','Weight'], figsize=(12,6))\n",
    "plt.show()"
   ]
  },
  {
   "cell_type": "markdown",
   "id": "24c02a06",
   "metadata": {},
   "source": [
    "# Visual exploration of relationship between variables\n",
    "\n",
    "- Continuous Vs Continuous ---- Scatter Plot\n",
    "- Categorical Vs Continuous---- Box Plot\n",
    "- Categorical Vs Categorical---- Grouped Bar Plots"
   ]
  },
  {
   "cell_type": "markdown",
   "id": "44c34bc6",
   "metadata": {},
   "source": [
    "### Continuous Vs Continuous ---- Scatter Plot"
   ]
  },
  {
   "cell_type": "code",
   "execution_count": 34,
   "id": "57fcb616",
   "metadata": {},
   "outputs": [
    {
     "data": {
      "image/png": "[encoded data removed]",
      "text/plain": [
       "<Figure size 1296x360 with 3 Axes>"
      ]
     },
     "metadata": {
      "needs_background": "light"
     },
     "output_type": "display_data"
    }
   ],
   "source": [
    "fig, subplot=plt.subplots(nrows=1, ncols=3, figsize=(18,5))\n",
    "fig.suptitle(\"Price vs AGE, KM, and Weight\")\n",
    "\n",
    "#Generating multiple scatter charts again after the outlier treatment\n",
    "df.plot.scatter(x='Age',y='Price',marker='o',color='blue',ax=subplot[0])\n",
    "df.plot.scatter(x='KM',y='Price',marker='o',color='red',ax=subplot[1])\n",
    "df.plot.scatter(x='Weight',y='Price',marker='o',color='blue',ax=subplot[2])\n",
    "\n",
    "plt.show()"
   ]
  },
  {
   "cell_type": "markdown",
   "id": "73d2ee35",
   "metadata": {},
   "source": [
    "# Statistical Feature Selection (Continuous Vs Continuous) using Correlation Matrix"
   ]
  },
  {
   "cell_type": "code",
   "execution_count": 11,
   "id": "4f3390b6",
   "metadata": {},
   "outputs": [
    {
     "data": {
      "text/html": [
       "<div>\n",
       "<style scoped>\n",
       "    .dataframe tbody tr th:only-of-type {\n",
       "        vertical-align: middle;\n",
       "    }\n",
       "\n",
       "    .dataframe tbody tr th {\n",
       "        vertical-align: top;\n",
       "    }\n",
       "\n",
       "    .dataframe thead th {\n",
       "        text-align: right;\n",
       "    }\n",
       "</style>\n",
       "<table border=\"1\" class=\"dataframe\">\n",
       "  <thead>\n",
       "    <tr style=\"text-align: right;\">\n",
       "      <th></th>\n",
       "      <th>Price</th>\n",
       "      <th>Age</th>\n",
       "      <th>KM</th>\n",
       "      <th>HP</th>\n",
       "      <th>MetColor</th>\n",
       "      <th>Automatic</th>\n",
       "      <th>CC</th>\n",
       "      <th>Doors</th>\n",
       "      <th>Weight</th>\n",
       "    </tr>\n",
       "  </thead>\n",
       "  <tbody>\n",
       "    <tr>\n",
       "      <th>Price</th>\n",
       "      <td>1.000000</td>\n",
       "      <td>-0.875951</td>\n",
       "      <td>-0.569420</td>\n",
       "      <td>0.314134</td>\n",
       "      <td>0.107604</td>\n",
       "      <td>0.033928</td>\n",
       "      <td>0.159242</td>\n",
       "      <td>0.183604</td>\n",
       "      <td>0.575794</td>\n",
       "    </tr>\n",
       "    <tr>\n",
       "      <th>Age</th>\n",
       "      <td>-0.875951</td>\n",
       "      <td>1.000000</td>\n",
       "      <td>0.503485</td>\n",
       "      <td>-0.156209</td>\n",
       "      <td>-0.105895</td>\n",
       "      <td>0.030887</td>\n",
       "      <td>-0.130827</td>\n",
       "      <td>-0.147008</td>\n",
       "      <td>-0.465909</td>\n",
       "    </tr>\n",
       "    <tr>\n",
       "      <th>KM</th>\n",
       "      <td>-0.569420</td>\n",
       "      <td>0.503485</td>\n",
       "      <td>1.000000</td>\n",
       "      <td>-0.332904</td>\n",
       "      <td>-0.079864</td>\n",
       "      <td>-0.082168</td>\n",
       "      <td>0.305182</td>\n",
       "      <td>-0.035193</td>\n",
       "      <td>-0.024290</td>\n",
       "    </tr>\n",
       "    <tr>\n",
       "      <th>HP</th>\n",
       "      <td>0.314134</td>\n",
       "      <td>-0.156209</td>\n",
       "      <td>-0.332904</td>\n",
       "      <td>1.000000</td>\n",
       "      <td>0.058272</td>\n",
       "      <td>0.013313</td>\n",
       "      <td>0.048389</td>\n",
       "      <td>0.091803</td>\n",
       "      <td>0.087472</td>\n",
       "    </tr>\n",
       "    <tr>\n",
       "      <th>MetColor</th>\n",
       "      <td>0.107604</td>\n",
       "      <td>-0.105895</td>\n",
       "      <td>-0.079864</td>\n",
       "      <td>0.058272</td>\n",
       "      <td>1.000000</td>\n",
       "      <td>-0.019222</td>\n",
       "      <td>0.034512</td>\n",
       "      <td>0.084796</td>\n",
       "      <td>0.056026</td>\n",
       "    </tr>\n",
       "    <tr>\n",
       "      <th>Automatic</th>\n",
       "      <td>0.033928</td>\n",
       "      <td>0.030887</td>\n",
       "      <td>-0.082168</td>\n",
       "      <td>0.013313</td>\n",
       "      <td>-0.019222</td>\n",
       "      <td>1.000000</td>\n",
       "      <td>-0.069324</td>\n",
       "      <td>-0.027492</td>\n",
       "      <td>0.058379</td>\n",
       "    </tr>\n",
       "    <tr>\n",
       "      <th>CC</th>\n",
       "      <td>0.159242</td>\n",
       "      <td>-0.130827</td>\n",
       "      <td>0.305182</td>\n",
       "      <td>0.048389</td>\n",
       "      <td>0.034512</td>\n",
       "      <td>-0.069324</td>\n",
       "      <td>1.000000</td>\n",
       "      <td>0.126476</td>\n",
       "      <td>0.650142</td>\n",
       "    </tr>\n",
       "    <tr>\n",
       "      <th>Doors</th>\n",
       "      <td>0.183604</td>\n",
       "      <td>-0.147008</td>\n",
       "      <td>-0.035193</td>\n",
       "      <td>0.091803</td>\n",
       "      <td>0.084796</td>\n",
       "      <td>-0.027492</td>\n",
       "      <td>0.126476</td>\n",
       "      <td>1.000000</td>\n",
       "      <td>0.301438</td>\n",
       "    </tr>\n",
       "    <tr>\n",
       "      <th>Weight</th>\n",
       "      <td>0.575794</td>\n",
       "      <td>-0.465909</td>\n",
       "      <td>-0.024290</td>\n",
       "      <td>0.087472</td>\n",
       "      <td>0.056026</td>\n",
       "      <td>0.058379</td>\n",
       "      <td>0.650142</td>\n",
       "      <td>0.301438</td>\n",
       "      <td>1.000000</td>\n",
       "    </tr>\n",
       "  </tbody>\n",
       "</table>\n",
       "</div>"
      ],
      "text/plain": [
       "              Price       Age        KM        HP  MetColor  Automatic  \\\n",
       "Price      1.000000 -0.875951 -0.569420  0.314134  0.107604   0.033928   \n",
       "Age       -0.875951  1.000000  0.503485 -0.156209 -0.105895   0.030887   \n",
       "KM        -0.569420  0.503485  1.000000 -0.332904 -0.079864  -0.082168   \n",
       "HP         0.314134 -0.156209 -0.332904  1.000000  0.058272   0.013313   \n",
       "MetColor   0.107604 -0.105895 -0.079864  0.058272  1.000000  -0.019222   \n",
       "Automatic  0.033928  0.030887 -0.082168  0.013313 -0.019222   1.000000   \n",
       "CC         0.159242 -0.130827  0.305182  0.048389  0.034512  -0.069324   \n",
       "Doors      0.183604 -0.147008 -0.035193  0.091803  0.084796  -0.027492   \n",
       "Weight     0.575794 -0.465909 -0.024290  0.087472  0.056026   0.058379   \n",
       "\n",
       "                 CC     Doors    Weight  \n",
       "Price      0.159242  0.183604  0.575794  \n",
       "Age       -0.130827 -0.147008 -0.465909  \n",
       "KM         0.305182 -0.035193 -0.024290  \n",
       "HP         0.048389  0.091803  0.087472  \n",
       "MetColor   0.034512  0.084796  0.056026  \n",
       "Automatic -0.069324 -0.027492  0.058379  \n",
       "CC         1.000000  0.126476  0.650142  \n",
       "Doors      0.126476  1.000000  0.301438  \n",
       "Weight     0.650142  0.301438  1.000000  "
      ]
     },
     "execution_count": 11,
     "metadata": {},
     "output_type": "execute_result"
    }
   ],
   "source": [
    "#Calculating correlation matrix\n",
    "continuous_columns=['Price','Age','KM','Weight']\n",
    "#Creating the correlation matrix\n",
    "correlation_data=df.corr()\n",
    "correlation_data"
   ]
  },
  {
   "cell_type": "code",
   "execution_count": 12,
   "id": "d508984c",
   "metadata": {},
   "outputs": [
    {
     "data": {
      "text/plain": [
       "Price     1.000000\n",
       "Age      -0.875951\n",
       "KM       -0.569420\n",
       "Weight    0.575794\n",
       "Name: Price, dtype: float64"
      ]
     },
     "execution_count": 12,
     "metadata": {},
     "output_type": "execute_result"
    }
   ],
   "source": [
    "#Filtering only those columns where absolute correlation>0.5 with Target variable\n",
    "#reduce the 0.5 threshold if no variable is selected\n",
    "correlation_data['Price'][abs(correlation_data['Price'])>0.5]"
   ]
  },
  {
   "cell_type": "markdown",
   "id": "6e32803e",
   "metadata": {},
   "source": [
    "# Statistical Feature Selection (Categorical Vs Continuous) using ANOVA test"
   ]
  },
  {
   "cell_type": "code",
   "execution_count": 13,
   "id": "ebe93307",
   "metadata": {},
   "outputs": [],
   "source": [
    "#Running the one-way anova test between Price and FuelTypes\n",
    "#Assumption (H0) is that FuelType and Prices are NOT Corelated\n",
    "from scipy.stats import f_oneway\n",
    "# Defining a function to find the statistical relationship with all the categorical variables\n",
    "\n",
    "def functionAnova(inputData, targetVariable, categoricalPredictorList):\n",
    "    selectPredictors=[]\n",
    "    print(\"ANOVA Results \\n\")\n",
    "    \n",
    "    for predictor in categoricalPredictorList:\n",
    "        categoryGroupLists=inputData.groupby(predictor)[targetVariable].apply(list)\n",
    "        anovaResults=f_oneway(*categoryGroupLists)\n",
    "        \n",
    "        #if the ANOVA P-Value is <0.05, that means we reject H0\n",
    "        \n",
    "        if(anovaResults[1]<0.05):\n",
    "            print(predictor, 'is correlated with', targetVariable, '|P-Value:',anovaResults[1])\n",
    "            selectPredictors.append(predictor)\n",
    "        else:\n",
    "            print(predictor, 'is not correlated with', targetVariable, '|P-Value:',anovaResults[1])\n",
    "    \n",
    "    return selectPredictors\n"
   ]
  },
  {
   "cell_type": "code",
   "execution_count": 14,
   "id": "28f037ed",
   "metadata": {},
   "outputs": [
    {
     "name": "stdout",
     "output_type": "stream",
     "text": [
      "ANOVA Results \n",
      "\n",
      "FuelType is not correlated with Price |P-Value: 0.07318091810885\n",
      "HP is correlated with Price |P-Value: 4.403061434008212e-109\n",
      "MetColor is correlated with Price |P-Value: 4.4173957971674025e-05\n",
      "Automatic is not correlated with Price |P-Value: 0.19897717506836016\n",
      "CC is correlated with Price |P-Value: 2.7678397532931023e-47\n",
      "Doors is correlated with Price |P-Value: 9.51180734144394e-13\n"
     ]
    },
    {
     "data": {
      "text/plain": [
       "['HP', 'MetColor', 'CC', 'Doors']"
      ]
     },
     "execution_count": 14,
     "metadata": {},
     "output_type": "execute_result"
    }
   ],
   "source": [
    "# Calling the function to check which categorical variables are correlated with target\n",
    "# Calling the function to check which categorical variables are not correlated with target\n",
    "# We accept the Assumption(H0) only when P-Value >0.05\n",
    "# Here the P-Value is >0.05 by a slight margin!! which means we will Accept the Assumption (H0)\n",
    "\n",
    "categorical_columns=['FuelType', 'HP', 'MetColor', 'Automatic', 'CC', 'Doors']\n",
    "functionAnova(inputData=df, targetVariable='Price',categoricalPredictorList=categorical_columns)"
   ]
  },
  {
   "cell_type": "markdown",
   "id": "2a6fa06f",
   "metadata": {},
   "source": [
    "# Data Pre_Processing for Machine Learning"
   ]
  },
  {
   "cell_type": "markdown",
   "id": "03eb59bf",
   "metadata": {},
   "source": [
    "# Treating Missing Values "
   ]
  },
  {
   "cell_type": "code",
   "execution_count": 15,
   "id": "bc5ef9d2",
   "metadata": {},
   "outputs": [
    {
     "data": {
      "text/plain": [
       "Price        0\n",
       "Age          2\n",
       "KM           0\n",
       "FuelType     4\n",
       "HP           0\n",
       "MetColor     0\n",
       "Automatic    0\n",
       "CC           2\n",
       "Doors        0\n",
       "Weight       2\n",
       "dtype: int64"
      ]
     },
     "execution_count": 15,
     "metadata": {},
     "output_type": "execute_result"
    }
   ],
   "source": [
    "df.isnull().sum()"
   ]
  },
  {
   "cell_type": "code",
   "execution_count": 16,
   "id": "368a2d3f",
   "metadata": {},
   "outputs": [],
   "source": [
    "# #Code to delete all the missing values at once; but this is not a best solution\n",
    "# #this is not applied in this dataset\n",
    "# print('Before deleting the missing values:', df.shape)\n",
    "# df=df.dropna()\n",
    "# print('after deleting the missing values:', df.shape)"
   ]
  },
  {
   "cell_type": "code",
   "execution_count": 17,
   "id": "685d8d53",
   "metadata": {},
   "outputs": [],
   "source": [
    "# Treating missing values in each column\n",
    "# Replacing by interpolation for a numeric variable\n",
    "df['Age']=df['Age'].interpolate(method='linear')\n",
    "#df['Age'].fillna(value=df['Age'].median(),inplace=True)\n",
    "\n",
    "#Treating missing values of numerical/Discreate variable with median() value\n",
    "df['Weight'].fillna(value=df['Weight'].median(),inplace=True)\n",
    "\n",
    "#----------------------------------------------------------------------\n",
    "\n",
    "# Replacing by interpolation for a Categorical variable\n",
    "df['FuelType']=df['FuelType'].interpolate(method='ffill')\n",
    "\n",
    "#Treating missing values of categorical/Discreate variable with MODE value\n",
    "#df['FuelType'].fillna(value=df['FuelType'].mode()[0],inplace=True)\n",
    "df['CC'].fillna(value=df['CC'].mode()[0],inplace=True)"
   ]
  },
  {
   "cell_type": "code",
   "execution_count": 18,
   "id": "0655ed06",
   "metadata": {},
   "outputs": [
    {
     "data": {
      "text/plain": [
       "Price        0\n",
       "Age          0\n",
       "KM           0\n",
       "FuelType     0\n",
       "HP           0\n",
       "MetColor     0\n",
       "Automatic    0\n",
       "CC           0\n",
       "Doors        0\n",
       "Weight       0\n",
       "dtype: int64"
      ]
     },
     "execution_count": 18,
     "metadata": {},
     "output_type": "execute_result"
    }
   ],
   "source": [
    "df.isnull().sum()"
   ]
  },
  {
   "cell_type": "markdown",
   "id": "a8550d36",
   "metadata": {},
   "source": [
    "`Observation`: There is no missing values"
   ]
  },
  {
   "cell_type": "markdown",
   "id": "799a3931",
   "metadata": {},
   "source": [
    "# Converting Categorical to numerical data"
   ]
  },
  {
   "cell_type": "markdown",
   "id": "3b21f37a",
   "metadata": {},
   "source": [
    "1. Firstly, all ordinal variables mapping the numerical values by manually\n",
    "2. Secondly, treat all nominal variables using dummy variables"
   ]
  },
  {
   "cell_type": "code",
   "execution_count": 19,
   "id": "7674ab32",
   "metadata": {},
   "outputs": [
    {
     "name": "stdout",
     "output_type": "stream",
     "text": [
      "<class 'pandas.core.frame.DataFrame'>\n",
      "Int64Index: 1435 entries, 0 to 1435\n",
      "Data columns (total 10 columns):\n",
      " #   Column     Non-Null Count  Dtype  \n",
      "---  ------     --------------  -----  \n",
      " 0   Price      1435 non-null   int64  \n",
      " 1   Age        1435 non-null   float64\n",
      " 2   KM         1435 non-null   int64  \n",
      " 3   FuelType   1435 non-null   object \n",
      " 4   HP         1435 non-null   int64  \n",
      " 5   MetColor   1435 non-null   int64  \n",
      " 6   Automatic  1435 non-null   int64  \n",
      " 7   CC         1435 non-null   float64\n",
      " 8   Doors      1435 non-null   int64  \n",
      " 9   Weight     1435 non-null   float64\n",
      "dtypes: float64(3), int64(6), object(1)\n",
      "memory usage: 123.3+ KB\n",
      "None\n",
      "\n",
      "Price         236\n",
      "Age            77\n",
      "KM           1263\n",
      "FuelType        3\n",
      "HP             12\n",
      "MetColor        2\n",
      "Automatic       2\n",
      "CC             12\n",
      "Doors           4\n",
      "Weight         59\n",
      "dtype: int64\n"
     ]
    }
   ],
   "source": [
    "print(df.info())\n",
    "print()\n",
    "print(df.nunique())"
   ]
  },
  {
   "cell_type": "markdown",
   "id": "c88c00c6",
   "metadata": {},
   "source": [
    "`Observation`: \n",
    "- This dataset has only one string categorical variable which is `FuelType`\n",
    "- Using `get_dummies` function because it is nominal variables  "
   ]
  },
  {
   "cell_type": "code",
   "execution_count": 20,
   "id": "d6447493",
   "metadata": {},
   "outputs": [
    {
     "data": {
      "text/html": [
       "<div>\n",
       "<style scoped>\n",
       "    .dataframe tbody tr th:only-of-type {\n",
       "        vertical-align: middle;\n",
       "    }\n",
       "\n",
       "    .dataframe tbody tr th {\n",
       "        vertical-align: top;\n",
       "    }\n",
       "\n",
       "    .dataframe thead th {\n",
       "        text-align: right;\n",
       "    }\n",
       "</style>\n",
       "<table border=\"1\" class=\"dataframe\">\n",
       "  <thead>\n",
       "    <tr style=\"text-align: right;\">\n",
       "      <th></th>\n",
       "      <th>Price</th>\n",
       "      <th>Age</th>\n",
       "      <th>KM</th>\n",
       "      <th>HP</th>\n",
       "      <th>MetColor</th>\n",
       "      <th>Automatic</th>\n",
       "      <th>CC</th>\n",
       "      <th>Doors</th>\n",
       "      <th>Weight</th>\n",
       "      <th>FuelType_CNG</th>\n",
       "      <th>FuelType_Diesel</th>\n",
       "      <th>FuelType_Petrol</th>\n",
       "    </tr>\n",
       "  </thead>\n",
       "  <tbody>\n",
       "    <tr>\n",
       "      <th>0</th>\n",
       "      <td>13500</td>\n",
       "      <td>23.0</td>\n",
       "      <td>46986</td>\n",
       "      <td>90</td>\n",
       "      <td>1</td>\n",
       "      <td>0</td>\n",
       "      <td>2000.0</td>\n",
       "      <td>3</td>\n",
       "      <td>1165.0</td>\n",
       "      <td>0</td>\n",
       "      <td>1</td>\n",
       "      <td>0</td>\n",
       "    </tr>\n",
       "    <tr>\n",
       "      <th>1</th>\n",
       "      <td>13750</td>\n",
       "      <td>23.0</td>\n",
       "      <td>72937</td>\n",
       "      <td>90</td>\n",
       "      <td>1</td>\n",
       "      <td>0</td>\n",
       "      <td>2000.0</td>\n",
       "      <td>3</td>\n",
       "      <td>1165.0</td>\n",
       "      <td>0</td>\n",
       "      <td>1</td>\n",
       "      <td>0</td>\n",
       "    </tr>\n",
       "    <tr>\n",
       "      <th>2</th>\n",
       "      <td>13950</td>\n",
       "      <td>24.0</td>\n",
       "      <td>41711</td>\n",
       "      <td>90</td>\n",
       "      <td>1</td>\n",
       "      <td>0</td>\n",
       "      <td>2000.0</td>\n",
       "      <td>3</td>\n",
       "      <td>1165.0</td>\n",
       "      <td>0</td>\n",
       "      <td>1</td>\n",
       "      <td>0</td>\n",
       "    </tr>\n",
       "    <tr>\n",
       "      <th>3</th>\n",
       "      <td>14950</td>\n",
       "      <td>26.0</td>\n",
       "      <td>48000</td>\n",
       "      <td>90</td>\n",
       "      <td>0</td>\n",
       "      <td>0</td>\n",
       "      <td>2000.0</td>\n",
       "      <td>3</td>\n",
       "      <td>1165.0</td>\n",
       "      <td>0</td>\n",
       "      <td>1</td>\n",
       "      <td>0</td>\n",
       "    </tr>\n",
       "    <tr>\n",
       "      <th>4</th>\n",
       "      <td>13750</td>\n",
       "      <td>30.0</td>\n",
       "      <td>38500</td>\n",
       "      <td>90</td>\n",
       "      <td>0</td>\n",
       "      <td>0</td>\n",
       "      <td>2000.0</td>\n",
       "      <td>3</td>\n",
       "      <td>1170.0</td>\n",
       "      <td>0</td>\n",
       "      <td>1</td>\n",
       "      <td>0</td>\n",
       "    </tr>\n",
       "  </tbody>\n",
       "</table>\n",
       "</div>"
      ],
      "text/plain": [
       "   Price   Age     KM  HP  MetColor  Automatic      CC  Doors  Weight  \\\n",
       "0  13500  23.0  46986  90         1          0  2000.0      3  1165.0   \n",
       "1  13750  23.0  72937  90         1          0  2000.0      3  1165.0   \n",
       "2  13950  24.0  41711  90         1          0  2000.0      3  1165.0   \n",
       "3  14950  26.0  48000  90         0          0  2000.0      3  1165.0   \n",
       "4  13750  30.0  38500  90         0          0  2000.0      3  1170.0   \n",
       "\n",
       "   FuelType_CNG  FuelType_Diesel  FuelType_Petrol  \n",
       "0             0                1                0  \n",
       "1             0                1                0  \n",
       "2             0                1                0  \n",
       "3             0                1                0  \n",
       "4             0                1                0  "
      ]
     },
     "execution_count": 20,
     "metadata": {},
     "output_type": "execute_result"
    }
   ],
   "source": [
    "df=pd.get_dummies(df)\n",
    "df.head()"
   ]
  },
  {
   "cell_type": "markdown",
   "id": "d9df375f",
   "metadata": {},
   "source": [
    "# Treating outliers"
   ]
  },
  {
   "cell_type": "markdown",
   "id": "e2a030ca",
   "metadata": {},
   "source": [
    "# Simple Linear Regression"
   ]
  },
  {
   "cell_type": "markdown",
   "id": "04485903",
   "metadata": {},
   "source": [
    "This research does not utilize all available data to develop its model. A sample of data is picked at random and set aside to evaluate the accuracy of the model. This is referred to as Testing Data, while the other data is known as Training Data, from which the model is constructed. Typically, 70% of data is utilized for Training, while the remaining 30% is used for Testing."
   ]
  },
  {
   "cell_type": "markdown",
   "id": "c3f4cf24",
   "metadata": {},
   "source": [
    "- Age is selected for Simple Linear Regression since it is more correlated with the price, which is 0.87.\n",
    "- Separate Target Variable and Predictor Variable"
   ]
  },
  {
   "cell_type": "code",
   "execution_count": 21,
   "id": "0656be2d",
   "metadata": {},
   "outputs": [],
   "source": [
    "targetVariable='Price'\n",
    "predictors=['Age']\n",
    "X=df[predictors].values\n",
    "y=df[targetVariable].values"
   ]
  },
  {
   "cell_type": "markdown",
   "id": "c4c42b70",
   "metadata": {},
   "source": [
    "# Split the dataset into training and testing\n",
    "\n",
    "- Test_size can go from 0.2 to 0.3\n",
    "- if test_size: >0.3 the model will be Underfit\n",
    "- if test_size: <0.2 the model will be Overfit"
   ]
  },
  {
   "cell_type": "code",
   "execution_count": 22,
   "id": "6c383f7a",
   "metadata": {},
   "outputs": [],
   "source": [
    "from sklearn.model_selection import train_test_split\n",
    "\n",
    "X_train, X_test, y_train, y_test=train_test_split(X,y,test_size=0.2,random_state=42)"
   ]
  },
  {
   "cell_type": "code",
   "execution_count": 23,
   "id": "b32927a9",
   "metadata": {},
   "outputs": [
    {
     "name": "stdout",
     "output_type": "stream",
     "text": [
      "X_train: (1148, 1)\n",
      "y_train: (1148,)\n",
      "X_test: (287, 1)\n",
      "y_test: (287,)\n"
     ]
    }
   ],
   "source": [
    "print('X_train:',X_train.shape)\n",
    "print('y_train:',y_train.shape)\n",
    "print('X_test:',X_test.shape)\n",
    "print('y_test:',y_test.shape)"
   ]
  },
  {
   "cell_type": "code",
   "execution_count": 24,
   "id": "ab5563d0",
   "metadata": {},
   "outputs": [
    {
     "name": "stdout",
     "output_type": "stream",
     "text": [
      "LinearRegression()\n"
     ]
    }
   ],
   "source": [
    "#Simple Linear Regression Model\n",
    "from sklearn.linear_model import LinearRegression\n",
    "\n",
    "slr=LinearRegression()\n",
    "\n",
    "#print all the parameters of Linear regression\n",
    "print(slr)\n",
    "\n",
    "#Creating the model on Training Data\n",
    "slr_model=slr.fit(X_train,y_train)\n",
    "slr_prediction=slr.predict(X_test)"
   ]
  },
  {
   "cell_type": "markdown",
   "id": "a6530f81",
   "metadata": {},
   "source": [
    "### The model is built and check the goodness of fit and accuracy"
   ]
  },
  {
   "cell_type": "code",
   "execution_count": 25,
   "id": "3760a328",
   "metadata": {},
   "outputs": [
    {
     "name": "stdout",
     "output_type": "stream",
     "text": [
      "R2 Value: 0.7671795333598377\n",
      "Mean Accuracy on Test Data:  89.06751481652763\n",
      "Median Accuracy on Test Data:  91.28924773297689\n"
     ]
    },
    {
     "data": {
      "text/html": [
       "<div>\n",
       "<style scoped>\n",
       "    .dataframe tbody tr th:only-of-type {\n",
       "        vertical-align: middle;\n",
       "    }\n",
       "\n",
       "    .dataframe tbody tr th {\n",
       "        vertical-align: top;\n",
       "    }\n",
       "\n",
       "    .dataframe thead th {\n",
       "        text-align: right;\n",
       "    }\n",
       "</style>\n",
       "<table border=\"1\" class=\"dataframe\">\n",
       "  <thead>\n",
       "    <tr style=\"text-align: right;\">\n",
       "      <th></th>\n",
       "      <th>Age</th>\n",
       "      <th>Price</th>\n",
       "      <th>Predicted Price</th>\n",
       "    </tr>\n",
       "  </thead>\n",
       "  <tbody>\n",
       "    <tr>\n",
       "      <th>0</th>\n",
       "      <td>59.0</td>\n",
       "      <td>9950</td>\n",
       "      <td>10183.0</td>\n",
       "    </tr>\n",
       "    <tr>\n",
       "      <th>1</th>\n",
       "      <td>62.0</td>\n",
       "      <td>7995</td>\n",
       "      <td>9671.0</td>\n",
       "    </tr>\n",
       "    <tr>\n",
       "      <th>2</th>\n",
       "      <td>59.0</td>\n",
       "      <td>7500</td>\n",
       "      <td>10183.0</td>\n",
       "    </tr>\n",
       "    <tr>\n",
       "      <th>3</th>\n",
       "      <td>69.0</td>\n",
       "      <td>9950</td>\n",
       "      <td>8477.0</td>\n",
       "    </tr>\n",
       "    <tr>\n",
       "      <th>4</th>\n",
       "      <td>65.0</td>\n",
       "      <td>8950</td>\n",
       "      <td>9159.0</td>\n",
       "    </tr>\n",
       "  </tbody>\n",
       "</table>\n",
       "</div>"
      ],
      "text/plain": [
       "    Age  Price  Predicted Price\n",
       "0  59.0   9950          10183.0\n",
       "1  62.0   7995           9671.0\n",
       "2  59.0   7500          10183.0\n",
       "3  69.0   9950           8477.0\n",
       "4  65.0   8950           9159.0"
      ]
     },
     "execution_count": 25,
     "metadata": {},
     "output_type": "execute_result"
    }
   ],
   "source": [
    "from sklearn import metrics\n",
    "\n",
    "#measuring goodness of fit on Training data\n",
    "print('R2 Value:', metrics.r2_score(y_train, slr.predict(X_train)))\n",
    "\n",
    "#measuring the accuracy on Testing data\n",
    "print('Mean Accuracy on Test Data: ', 100-(np.mean(np.abs((y_test-slr_prediction)/y_test))*100))\n",
    "print('Median Accuracy on Test Data: ', 100-(np.median(np.abs((y_test-slr_prediction)/y_test))*100))\n",
    "\n",
    "#Printing some sample values of prediction\n",
    "testingDataResults=pd.DataFrame(data=X_test, columns=predictors)\n",
    "testingDataResults[targetVariable]=y_test\n",
    "testingDataResults[('Predicted'+' '+targetVariable)]=np.round(slr_prediction)\n",
    "testingDataResults.head()"
   ]
  },
  {
   "cell_type": "markdown",
   "id": "29af60b3",
   "metadata": {},
   "source": [
    "# N-fold cross validation\n",
    "\n",
    "- N-fold cross validation splits the data into \"N-parts\", then itertively use one part for testing and other parts as training data\n",
    "- This is used to increase the accuracy of data"
   ]
  },
  {
   "cell_type": "code",
   "execution_count": 26,
   "id": "09268ca7",
   "metadata": {},
   "outputs": [],
   "source": [
    "def accuracy_score(y_test, prediction):\n",
    "    MAPE=np.mean(100*(np.abs(y_test-prediction)/y_test))\n",
    "    #print('#'*70, 'Accuracy:',100-MAPE)\n",
    "    return(100-MAPE)"
   ]
  },
  {
   "cell_type": "code",
   "execution_count": 27,
   "id": "c3daa937",
   "metadata": {},
   "outputs": [],
   "source": [
    "#Custom Scoring MAPE calculation\n",
    "from sklearn.metrics import make_scorer\n",
    "custom_scoring=make_scorer(accuracy_score, greater_is_better=True)"
   ]
  },
  {
   "cell_type": "code",
   "execution_count": 28,
   "id": "fe9af54c",
   "metadata": {},
   "outputs": [],
   "source": [
    "#Importing cross validation function from sklearn\n",
    "from sklearn.model_selection import cross_val_score"
   ]
  },
  {
   "cell_type": "code",
   "execution_count": 29,
   "id": "20ce6b18",
   "metadata": {},
   "outputs": [
    {
     "name": "stdout",
     "output_type": "stream",
     "text": [
      "\n",
      "Accuracy values for 10-fold Cross Validation: \n",
      " [85.6781672  85.04724939 82.1092218  90.29354951 86.42090616 89.67710865\n",
      " 91.95844732 88.29684572 88.10192931 83.48465721]\n",
      "\n",
      "Final Average Accuracy of the model:  87.11\n"
     ]
    }
   ],
   "source": [
    "# Running 10-Fold cross validation on a given algorithm\n",
    "# Passing full data X and y because the K-fold will split the data and automatically choose train/test\n",
    "\n",
    "Accuracy_Values=cross_val_score(slr_model, X, y, cv=10, scoring=custom_scoring)\n",
    "print('\\nAccuracy values for 10-fold Cross Validation: \\n',Accuracy_Values)\n",
    "print('\\nFinal Average Accuracy of the model: ',round(Accuracy_Values.mean(),2))"
   ]
  },
  {
   "cell_type": "code",
   "execution_count": 30,
   "id": "91086184",
   "metadata": {},
   "outputs": [
    {
     "name": "stdout",
     "output_type": "stream",
     "text": [
      "The value of Slope is: [-170.65332162]\n",
      "The value of Intercept is: 20251.8204961368\n"
     ]
    }
   ],
   "source": [
    "print('The value of Slope is:', slr_model.coef_)\n",
    "print('The value of Intercept is:', slr_model.intercept_)"
   ]
  },
  {
   "cell_type": "markdown",
   "id": "77d63883",
   "metadata": {},
   "source": [
    "`Observation`: Slope is negative which means that if Age is increases, Price of car decreases\n",
    " "
   ]
  },
  {
   "cell_type": "markdown",
   "id": "5b8557db",
   "metadata": {},
   "source": [
    "using the above slope and intercept, the Equation of `Simple Linear Regression` model becomes.\n",
    "\n",
    "**y=mx+c**\n",
    "\n",
    "**price=-170.65*Age + 20251.82**"
   ]
  },
  {
   "cell_type": "code",
   "execution_count": 31,
   "id": "c0414f3c",
   "metadata": {},
   "outputs": [
    {
     "data": {
      "image/png": "[encoded data removed]",
      "text/plain": [
       "<Figure size 432x288 with 1 Axes>"
      ]
     },
     "metadata": {
      "needs_background": "light"
     },
     "output_type": "display_data"
    }
   ],
   "source": [
    "#Visualizing the line of best fit\n",
    "plt.scatter(x=testingDataResults['Age'],y=testingDataResults['Price'])\n",
    "plt.plot(testingDataResults['Age'],testingDataResults['Predicted Price'], color='red')\n",
    "plt.show()"
   ]
  },
  {
   "cell_type": "code",
   "execution_count": 32,
   "id": "b33785fb",
   "metadata": {},
   "outputs": [
    {
     "data": {
      "text/html": [
       "<div>\n",
       "<style scoped>\n",
       "    .dataframe tbody tr th:only-of-type {\n",
       "        vertical-align: middle;\n",
       "    }\n",
       "\n",
       "    .dataframe tbody tr th {\n",
       "        vertical-align: top;\n",
       "    }\n",
       "\n",
       "    .dataframe thead th {\n",
       "        text-align: right;\n",
       "    }\n",
       "</style>\n",
       "<table border=\"1\" class=\"dataframe\">\n",
       "  <thead>\n",
       "    <tr style=\"text-align: right;\">\n",
       "      <th></th>\n",
       "      <th>Age</th>\n",
       "      <th>Price</th>\n",
       "      <th>Predicted Price</th>\n",
       "      <th>APE</th>\n",
       "    </tr>\n",
       "  </thead>\n",
       "  <tbody>\n",
       "    <tr>\n",
       "      <th>126</th>\n",
       "      <td>53.0</td>\n",
       "      <td>6500</td>\n",
       "      <td>11207.0</td>\n",
       "      <td>72.418376</td>\n",
       "    </tr>\n",
       "    <tr>\n",
       "      <th>169</th>\n",
       "      <td>69.0</td>\n",
       "      <td>5950</td>\n",
       "      <td>8477.0</td>\n",
       "      <td>42.466240</td>\n",
       "    </tr>\n",
       "    <tr>\n",
       "      <th>220</th>\n",
       "      <td>54.0</td>\n",
       "      <td>7750</td>\n",
       "      <td>11037.0</td>\n",
       "      <td>42.406982</td>\n",
       "    </tr>\n",
       "    <tr>\n",
       "      <th>232</th>\n",
       "      <td>4.0</td>\n",
       "      <td>31275</td>\n",
       "      <td>19569.0</td>\n",
       "      <td>37.428594</td>\n",
       "    </tr>\n",
       "    <tr>\n",
       "      <th>110</th>\n",
       "      <td>49.0</td>\n",
       "      <td>18950</td>\n",
       "      <td>11890.0</td>\n",
       "      <td>37.256951</td>\n",
       "    </tr>\n",
       "    <tr>\n",
       "      <th>...</th>\n",
       "      <td>...</td>\n",
       "      <td>...</td>\n",
       "      <td>...</td>\n",
       "      <td>...</td>\n",
       "    </tr>\n",
       "    <tr>\n",
       "      <th>249</th>\n",
       "      <td>66.0</td>\n",
       "      <td>8950</td>\n",
       "      <td>8989.0</td>\n",
       "      <td>0.432416</td>\n",
       "    </tr>\n",
       "    <tr>\n",
       "      <th>241</th>\n",
       "      <td>8.0</td>\n",
       "      <td>18950</td>\n",
       "      <td>18887.0</td>\n",
       "      <td>0.334597</td>\n",
       "    </tr>\n",
       "    <tr>\n",
       "      <th>129</th>\n",
       "      <td>43.0</td>\n",
       "      <td>12950</td>\n",
       "      <td>12914.0</td>\n",
       "      <td>0.280095</td>\n",
       "    </tr>\n",
       "    <tr>\n",
       "      <th>211</th>\n",
       "      <td>57.0</td>\n",
       "      <td>10500</td>\n",
       "      <td>10525.0</td>\n",
       "      <td>0.234106</td>\n",
       "    </tr>\n",
       "    <tr>\n",
       "      <th>72</th>\n",
       "      <td>38.0</td>\n",
       "      <td>13750</td>\n",
       "      <td>13767.0</td>\n",
       "      <td>0.123595</td>\n",
       "    </tr>\n",
       "  </tbody>\n",
       "</table>\n",
       "<p>287 rows × 4 columns</p>\n",
       "</div>"
      ],
      "text/plain": [
       "      Age  Price  Predicted Price        APE\n",
       "126  53.0   6500          11207.0  72.418376\n",
       "169  69.0   5950           8477.0  42.466240\n",
       "220  54.0   7750          11037.0  42.406982\n",
       "232   4.0  31275          19569.0  37.428594\n",
       "110  49.0  18950          11890.0  37.256951\n",
       "..    ...    ...              ...        ...\n",
       "249  66.0   8950           8989.0   0.432416\n",
       "241   8.0  18950          18887.0   0.334597\n",
       "129  43.0  12950          12914.0   0.280095\n",
       "211  57.0  10500          10525.0   0.234106\n",
       "72   38.0  13750          13767.0   0.123595\n",
       "\n",
       "[287 rows x 4 columns]"
      ]
     },
     "execution_count": 32,
     "metadata": {},
     "output_type": "execute_result"
    }
   ],
   "source": [
    "testingDataResults['APE']=np.abs((y_test-slr_prediction)/y_test)*100\n",
    "\n",
    "#Printing the top 10 errors made by the model\n",
    "testingDataResults.sort_values(by='APE',ascending=False)"
   ]
  },
  {
   "cell_type": "code",
   "execution_count": 33,
   "id": "5ebdab72",
   "metadata": {},
   "outputs": [
    {
     "data": {
      "image/png": "[encoded data removed]",
      "text/plain": [
       "<Figure size 1080x288 with 1 Axes>"
      ]
     },
     "metadata": {
      "needs_background": "light"
     },
     "output_type": "display_data"
    }
   ],
   "source": [
    "#Looking at the distribution of errors\n",
    "testingDataResults['APE'].hist(figsize=(15,4))\n",
    "plt.show()"
   ]
  },
  {
   "cell_type": "code",
   "execution_count": null,
   "id": "f0764313",
   "metadata": {},
   "outputs": [],
   "source": []
  }
 ],
 "metadata": {
  "kernelspec": {
   "display_name": "Python 3.9 (tensorflow)",
   "language": "python",
   "name": "tensorflow"
  },
  "language_info": {
   "codemirror_mode": {
    "name": "ipython",
    "version": 3
   },
   "file_extension": ".py",
   "mimetype": "text/x-python",
   "name": "python",
   "nbconvert_exporter": "python",
   "pygments_lexer": "ipython3",
   "version": "3.9.7"
  }
 },
 "nbformat": 4,
 "nbformat_minor": 5
}
